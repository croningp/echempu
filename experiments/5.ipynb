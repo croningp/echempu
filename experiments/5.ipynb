{
 "cells": [
  {
   "cell_type": "code",
   "execution_count": 1,
   "metadata": {},
   "outputs": [
    {
     "name": "stdout",
     "output_type": "stream",
     "text": [
      "necessary 0.003 mol of electrons in the reaction\n",
      "necessary charge is 723.6374999999999 according to Fmol\n",
      "Time of the reaction is  12060 s\n",
      "Current necessary is  0.06 A\n",
      "total charge necessary is 723.6374999999999 Coulombs\n",
      "You need 3.350173611111111 hours\n"
     ]
    }
   ],
   "source": [
    "# number of electrons in the reaction\n",
    "# mols of reactant\n",
    "# F\n",
    "\n",
    "# optional inputs\n",
    "# surface area and current density\n",
    "\n",
    "# An ElectraSyn vial (5 mL) with a stir bar was charged with the carboxylic acid (1.5 mmol, 1.0 equiv.),\n",
    "# tetramethyl ammonium hydroxide (Me4N•OH) (0.45 mmol, 30 mol%), pivalic acid (PivOH) (0.30 mmol, \n",
    "# 20 mol%), tetramethyl ammonium tetrafluoroborate (Me4N•BF4) (0.20 mmol) and acetone (3.0 mL). \n",
    "# two electrodes (graphite rod, 4 cm2 of surface area)  \n",
    "# electrolysis parameters: constant current: 60 mA, \n",
    "# alternating frequency: 5 s, amount of charge: 5 F/mol. \n",
    "\n",
    "F=96485\n",
    "\n",
    "def calculate_reaction_time(mol, ne, current=None, j=None, surface_area=None, Fmol=None):\n",
    "    \"\"\"\n",
    "    This function calculates the theoretical times needed to perform a echem reaction\n",
    "\n",
    "    Argument:\n",
    "    mol: float          = The amount of the rate limiting reactant in mol\n",
    "    ne: int             = number of electrons per reaction\n",
    "    current: float      = Ampere\n",
    "    j: float            = current density Ampere/cm2\n",
    "    surface_area: float = cm2 of elctrode\n",
    "\n",
    "    Returns:\n",
    "    time: float = reaction time in seconds\n",
    "    \"\"\"\n",
    "    mol_electrons=mol*ne\n",
    "    print(\"necessary\", mol_electrons, \"mol of electrons in the reaction\")\n",
    "    if Fmol is not None:\n",
    "        q=(Fmol * mol) * F\n",
    "        print(\"necessary charge is\", q, \"according to Fmol\")\n",
    "    else:\n",
    "        q=mol_electrons*F\n",
    "    if current is not None:\n",
    "        time=q/current\n",
    "    elif j is not None and surface_area is not None:\n",
    "        current=j*surface_area\n",
    "        time=q/current\n",
    "    else:\n",
    "        print(\"Either current or j or surface_area must be provided\")\n",
    "        return None\n",
    "    \n",
    "    time_hours=time/3600\n",
    "    time_days=time_hours/24\n",
    "    print(\"Time of the reaction is \", int(time), \"s\")\n",
    "    print(\"Current necessary is \", current, \"A\")\n",
    "    print(\"total charge necessary is\" ,q, \"Coulombs\")\n",
    "    print(\"You need\", time_hours, \"hours\")\n",
    "    return time, q\n",
    "\n",
    "time, q = calculate_reaction_time(mol=1.5e-3, ne=2, current=6e-2, surface_area=4, Fmol=5)"
   ]
  },
  {
   "cell_type": "code",
   "execution_count": 1,
   "metadata": {},
   "outputs": [],
   "source": [
    "import logging\n",
    "from pathlib import Path\n",
    "\n",
    "from xdl import XDL, initialize_logging\n",
    "from chemputerxdl import ChemputerPlatform\n",
    "from chempiler import Chempiler\n",
    "import ChemputerAPI"
   ]
  },
  {
   "cell_type": "code",
   "execution_count": 2,
   "metadata": {},
   "outputs": [],
   "source": [
    "exp_name = \"MGS2-110\" \n",
    "\n",
    "output_path = Path(\".\").resolve()\n",
    "log_path = str(output_path / \"log_files\")\n",
    "\n",
    "xdl_path = str(output_path / f\"{exp_name}.xdl\")\n",
    "graph_path = str(output_path / f\"{exp_name}.json\")"
   ]
  },
  {
   "cell_type": "code",
   "execution_count": 3,
   "metadata": {},
   "outputs": [],
   "source": [
    "initialize_logging(\n",
    "    stream_level=logging.WARNING,\n",
    "    file_level=logging.INFO,\n",
    "    file_dir=log_path  # must be given when `file_level` is not None\n",
    ")"
   ]
  },
  {
   "cell_type": "code",
   "execution_count": 4,
   "metadata": {},
   "outputs": [],
   "source": [
    "xdl = XDL(\n",
    "    xdl=xdl_path,\n",
    "    platform=ChemputerPlatform,\n",
    "    working_directory=output_path / \"blueprints\",\n",
    ")"
   ]
  },
  {
   "cell_type": "code",
   "execution_count": 5,
   "metadata": {},
   "outputs": [
    {
     "name": "stderr",
     "output_type": "stream",
     "text": [
      "2025-05-06 17:14:49,301 | W | Chempiler | utils.py:63 | _read_text() | Config file not found at C:\\Users\\group\\AppData\\Local\\ChemPU\\Chempiler\\chempu-config.json.\n",
      "2025-05-06 17:14:49,509 | W | XDL.Step.Transfer-af9d89b2-73a4-4de6-851f-692844f722dd | liquid_handling.py:565 | on_prepare_for_execution() | Transfer is being skipped because source (vessel: aqueous1_flask, port: 0) and destination (vessel: aqueous1_flask, port: 0) are the same.\n",
      "\n",
      "2025-05-06 17:14:49,518 | W | XDL.Step.Transfer-0f8abdfd-4331-4269-94d8-21d03fe47e01 | liquid_handling.py:565 | on_prepare_for_execution() | Transfer is being skipped because source (vessel: aqueous1_flask, port: 0) and destination (vessel: aqueous1_flask, port: 0) are the same.\n",
      "\n",
      "2025-05-06 17:14:49,549 | W | XDL.Step.Transfer-17f0e450-421c-4cf4-b8c3-36f2224baf0e | liquid_handling.py:565 | on_prepare_for_execution() | Transfer is being skipped because source (vessel: aqueous1_flask, port: 0) and destination (vessel: aqueous1_flask, port: 0) are the same.\n",
      "\n",
      "2025-05-06 17:14:51,122 | W | XDL.Step.Transfer-63dea00b-ed69-4391-a048-1953ba547ad0 | liquid_handling.py:565 | on_prepare_for_execution() | Transfer is being skipped because source (vessel: aqueous1_flask, port: 0) and destination (vessel: aqueous1_flask, port: 0) are the same.\n",
      "\n",
      "2025-05-06 17:14:51,141 | W | XDL.Step.Transfer-73759b2e-2035-4dc4-bf7c-89867b6a1af5 | liquid_handling.py:565 | on_prepare_for_execution() | Transfer is being skipped because source (vessel: aqueous1_flask, port: 0) and destination (vessel: aqueous1_flask, port: 0) are the same.\n",
      "\n",
      "2025-05-06 17:14:51,160 | W | XDL.Step.Transfer-191cab82-53c7-4afc-b167-e6e329fdc177 | liquid_handling.py:565 | on_prepare_for_execution() | Transfer is being skipped because source (vessel: aqueous1_flask, port: 0) and destination (vessel: aqueous1_flask, port: 0) are the same.\n",
      "\n"
     ]
    },
    {
     "name": "stdout",
     "output_type": "stream",
     "text": [
      "\u001b[1m\u001b[35mChemicals Consumed\n",
      "==================\u001b[0m\n",
      "\u001b[0m\n",
      "\u001b[36m╒════════════════════╤═══════════════╕\n",
      "│ Name of Chemical   │ Volume Used   │\n",
      "╞════════════════════╪═══════════════╡\n",
      "│ EtOAC              │ 553.00 mL     │\n",
      "├────────────────────┼───────────────┤\n",
      "│ acetone            │ 232.00 mL     │\n",
      "├────────────────────┼───────────────┤\n",
      "│ HCl_1M             │ 138.00 mL     │\n",
      "├────────────────────┼───────────────┤\n",
      "│ water              │ 125.00 mL     │\n",
      "├────────────────────┼───────────────┤\n",
      "│ HCl_01M            │ 108.00 mL     │\n",
      "├────────────────────┼───────────────┤\n",
      "│ crude1             │ 62.00 mL      │\n",
      "├────────────────────┼───────────────┤\n",
      "│ crude2             │ 62.00 mL      │\n",
      "├────────────────────┼───────────────┤\n",
      "│ crude3             │ 62.00 mL      │\n",
      "├────────────────────┼───────────────┤\n",
      "│ crude4             │ 62.00 mL      │\n",
      "├────────────────────┼───────────────┤\n",
      "│ PiVOH              │ 16.00 mL      │\n",
      "├────────────────────┼───────────────┤\n",
      "│ NaOH_2M            │ 14.00 mL      │\n",
      "├────────────────────┼───────────────┤\n",
      "│ CbzCl              │ 12.50 mL      │\n",
      "├────────────────────┼───────────────┤\n",
      "│ Boc2O              │ 12.50 mL      │\n",
      "├────────────────────┼───────────────┤\n",
      "│ acid_1_H2O         │ 10.00 mL      │\n",
      "├────────────────────┼───────────────┤\n",
      "│ acid_1_dioxane_H2O │ 10.00 mL      │\n",
      "╘════════════════════╧═══════════════╛\u001b[0m\n",
      "\u001b[0m\n"
     ]
    }
   ],
   "source": [
    "xdl.prepare_for_execution(\n",
    "    graph_file=graph_path,\n",
    "    interactive=False\n",
    ")"
   ]
  },
  {
   "cell_type": "code",
   "execution_count": 6,
   "metadata": {},
   "outputs": [
    {
     "name": "stderr",
     "output_type": "stream",
     "text": [
      "2025-05-06 17:15:10,355 | W | Chempiler | utils.py:63 | _read_text() | Config file not found at C:\\Users\\group\\AppData\\Local\\ChemPU\\Chempiler\\chempu-config.json.\n",
      "--- Logging error ---\n",
      "Traceback (most recent call last):\n",
      "  File \"C:\\codebase\\chempu-project\\chemputerapi\\src\\ChemputerAPI\\core\\connections\\pump_valve.py\", line 311, in _connect_to_server\n",
      "    self.tcp.connect((self.address, TCP_PORT))\n",
      "TimeoutError: [WinError 10060] A connection attempt failed because the connected party did not properly respond after a period of time, or established connection failed because connected host has failed to respond\n",
      "\n",
      "During handling of the above exception, another exception occurred:\n",
      "\n",
      "Traceback (most recent call last):\n",
      "  File \"C:\\ProgramFilesUsers\\Python312\\Lib\\logging\\__init__.py\", line 1160, in emit\n",
      "    msg = self.format(record)\n",
      "          ^^^^^^^^^^^^^^^^^^^\n",
      "  File \"C:\\ProgramFilesUsers\\Python312\\Lib\\logging\\__init__.py\", line 999, in format\n",
      "    return fmt.format(record)\n",
      "           ^^^^^^^^^^^^^^^^^^\n",
      "  File \"C:\\codebase\\chempu-project\\xdl\\src\\xdl\\utils\\logging\\formatters.py\", line 28, in format\n",
      "    return json.dumps(log_record)\n",
      "           ^^^^^^^^^^^^^^^^^^^^^^\n",
      "  File \"C:\\ProgramFilesUsers\\Python312\\Lib\\json\\__init__.py\", line 231, in dumps\n",
      "    return _default_encoder.encode(obj)\n",
      "           ^^^^^^^^^^^^^^^^^^^^^^^^^^^^\n",
      "  File \"C:\\ProgramFilesUsers\\Python312\\Lib\\json\\encoder.py\", line 200, in encode\n",
      "    chunks = self.iterencode(o, _one_shot=True)\n",
      "             ^^^^^^^^^^^^^^^^^^^^^^^^^^^^^^^^^^\n",
      "  File \"C:\\ProgramFilesUsers\\Python312\\Lib\\json\\encoder.py\", line 258, in iterencode\n",
      "    return _iterencode(o, 0)\n",
      "           ^^^^^^^^^^^^^^^^^\n",
      "  File \"C:\\ProgramFilesUsers\\Python312\\Lib\\json\\encoder.py\", line 180, in default\n",
      "    raise TypeError(f'Object of type {o.__class__.__name__} '\n",
      "TypeError: Object of type type is not JSON serializable\n",
      "Call stack:\n",
      "  File \"C:\\ProgramFilesUsers\\Python312\\Lib\\threading.py\", line 1032, in _bootstrap\n",
      "    self._bootstrap_inner()\n",
      "  File \"C:\\ProgramFilesUsers\\Python312\\Lib\\threading.py\", line 1075, in _bootstrap_inner\n",
      "    self.run()\n",
      "  File \"c:\\Users\\group\\.venv-312-chempu\\Lib\\site-packages\\ipykernel\\ipkernel.py\", line 766, in run_closure\n",
      "    _threading_Thread_run(self)\n",
      "  File \"C:\\ProgramFilesUsers\\Python312\\Lib\\threading.py\", line 1012, in run\n",
      "    self._target(*self._args, **self._kwargs)\n",
      "  File \"C:\\ProgramFilesUsers\\Python312\\Lib\\concurrent\\futures\\thread.py\", line 92, in _worker\n",
      "    work_item.run()\n",
      "  File \"C:\\ProgramFilesUsers\\Python312\\Lib\\concurrent\\futures\\thread.py\", line 58, in run\n",
      "    result = self.fn(*self.args, **self.kwargs)\n",
      "  File \"C:\\codebase\\chempu-project\\chempiler\\src\\chempiler\\tools\\graph.py\", line 505, in instantiate_node\n",
      "    device_obj: Any = node_class(**kwargs)\n",
      "  File \"C:\\codebase\\chempu-project\\chemputerapi\\src\\ChemputerAPI\\devices\\chemputer_valve\\device.py\", line 68, in __init__\n",
      "    _ChemputerEthernetDevice.__init__(\n",
      "  File \"C:\\codebase\\chempu-project\\chemputerapi\\src\\ChemputerAPI\\core\\connections\\pump_valve.py\", line 208, in __init__\n",
      "    self._connect_to_server()\n",
      "  File \"C:\\codebase\\chempu-project\\chemputerapi\\src\\ChemputerAPI\\core\\connections\\pump_valve.py\", line 313, in _connect_to_server\n",
      "    self.logger.exception(\n",
      "Message: 'Unable to connect to host device: IP 192.168.1.14 did not respond.'\n",
      "Arguments: ()\n",
      "2025-05-06 17:15:31,406 | E | ChemputerAPI.ChemputerValve | pump_valve.py:313 | _connect_to_server() | Unable to connect to host device: IP 192.168.1.14 did not respond.\n",
      "Exception in thread valve21 TCP thread:\n",
      "Traceback (most recent call last):\n",
      "  File \"C:\\ProgramFilesUsers\\Python312\\Lib\\threading.py\", line 1075, in _bootstrap_inner\n",
      "    self.run()\n",
      "  File \"c:\\Users\\group\\.venv-312-chempu\\Lib\\site-packages\\ipykernel\\ipkernel.py\", line 766, in run_closure\n",
      "    _threading_Thread_run(self)\n",
      "  File \"C:\\ProgramFilesUsers\\Python312\\Lib\\threading.py\", line 1012, in run\n",
      "    self._target(*self._args, **self._kwargs)\n",
      "  File \"C:\\codebase\\chempu-project\\chemputerapi\\src\\ChemputerAPI\\core\\connections\\pump_valve.py\", line 424, in _receive_response\n",
      "    response = self.tcp.recv(BUFFER_SIZE).decode()\n",
      "               ^^^^^^^^^^^^^^^^^^^^^^^^^^\n",
      "OSError: [WinError 10057] A request to send or receive data was disallowed because the socket is not connected and (when sending on a datagram socket using a sendto call) no address was supplied\n"
     ]
    },
    {
     "ename": "KeyboardInterrupt",
     "evalue": "",
     "output_type": "error",
     "traceback": [
      "\u001b[1;31m---------------------------------------------------------------------------\u001b[0m",
      "\u001b[1;31mKeyboardInterrupt\u001b[0m                         Traceback (most recent call last)",
      "Cell \u001b[1;32mIn[6], line 1\u001b[0m\n\u001b[1;32m----> 1\u001b[0m chempiler \u001b[38;5;241m=\u001b[39m \u001b[43mChempiler\u001b[49m\u001b[43m(\u001b[49m\n\u001b[0;32m      2\u001b[0m \u001b[43m    \u001b[49m\u001b[43mexperiment_code\u001b[49m\u001b[38;5;241;43m=\u001b[39;49m\u001b[43mexp_name\u001b[49m\u001b[43m,\u001b[49m\n\u001b[0;32m      3\u001b[0m \u001b[43m    \u001b[49m\u001b[43mgraph_file\u001b[49m\u001b[38;5;241;43m=\u001b[39;49m\u001b[38;5;124;43mf\u001b[39;49m\u001b[38;5;124;43m\"\u001b[39;49m\u001b[38;5;132;43;01m{\u001b[39;49;00m\u001b[43mexp_name\u001b[49m\u001b[38;5;132;43;01m}\u001b[39;49;00m\u001b[38;5;124;43m.json\u001b[39;49m\u001b[38;5;124;43m\"\u001b[39;49m\u001b[43m,\u001b[49m\n\u001b[0;32m      4\u001b[0m \u001b[43m    \u001b[49m\u001b[43moutput_dir\u001b[49m\u001b[38;5;241;43m=\u001b[39;49m\u001b[38;5;124;43m\"\u001b[39;49m\u001b[38;5;124;43m.\u001b[39;49m\u001b[38;5;124;43m\"\u001b[39;49m\u001b[43m,\u001b[49m\n\u001b[0;32m      5\u001b[0m \u001b[43m    \u001b[49m\u001b[43msimulation\u001b[49m\u001b[38;5;241;43m=\u001b[39;49m\u001b[38;5;28;43;01mFalse\u001b[39;49;00m\u001b[43m,\u001b[49m\n\u001b[0;32m      6\u001b[0m \u001b[43m    \u001b[49m\u001b[43mdevice_modules\u001b[49m\u001b[38;5;241;43m=\u001b[39;49m\u001b[43m[\u001b[49m\u001b[43mChemputerAPI\u001b[49m\u001b[43m]\u001b[49m\u001b[43m,\u001b[49m\n\u001b[0;32m      7\u001b[0m \u001b[43m)\u001b[49m\n",
      "File \u001b[1;32mC:\\codebase\\chempu-project\\chempiler\\src\\chempiler\\chempiler.py:113\u001b[0m, in \u001b[0;36mChempiler.__init__\u001b[1;34m(self, experiment_code, graph_file, output_dir, simulation, device_modules, interactive)\u001b[0m\n\u001b[0;32m    110\u001b[0m \u001b[38;5;28mself\u001b[39m\u001b[38;5;241m.\u001b[39mdevice_modules \u001b[38;5;241m=\u001b[39m device_modules \u001b[38;5;129;01mor\u001b[39;00m []\n\u001b[0;32m    112\u001b[0m \u001b[38;5;66;03m# Initialise everything\u001b[39;00m\n\u001b[1;32m--> 113\u001b[0m \u001b[38;5;28mself\u001b[39m\u001b[38;5;241m.\u001b[39mgraph \u001b[38;5;241m=\u001b[39m \u001b[43mChempilerGraph\u001b[49m\u001b[43m(\u001b[49m\n\u001b[0;32m    114\u001b[0m \u001b[43m    \u001b[49m\u001b[43mfilename\u001b[49m\u001b[38;5;241;43m=\u001b[39;49m\u001b[43mgraph_file\u001b[49m\u001b[43m,\u001b[49m\n\u001b[0;32m    115\u001b[0m \u001b[43m    \u001b[49m\u001b[43mdevice_modules\u001b[49m\u001b[38;5;241;43m=\u001b[39;49m\u001b[38;5;28;43mself\u001b[39;49m\u001b[38;5;241;43m.\u001b[39;49m\u001b[43mdevice_modules\u001b[49m\u001b[43m,\u001b[49m\n\u001b[0;32m    116\u001b[0m \u001b[43m    \u001b[49m\u001b[43msimulation\u001b[49m\u001b[38;5;241;43m=\u001b[39;49m\u001b[38;5;28;43mself\u001b[39;49m\u001b[38;5;241;43m.\u001b[39;49m\u001b[43msimulation\u001b[49m\u001b[43m,\u001b[49m\n\u001b[0;32m    117\u001b[0m \u001b[43m\u001b[49m\u001b[43m)\u001b[49m\n\u001b[0;32m    118\u001b[0m \u001b[38;5;28mself\u001b[39m\u001b[38;5;241m.\u001b[39mcrash_dump: Path \u001b[38;5;241m|\u001b[39m \u001b[38;5;28;01mNone\u001b[39;00m \u001b[38;5;241m=\u001b[39m \u001b[38;5;28mself\u001b[39m\u001b[38;5;241m.\u001b[39m_initialize_crash_dump()\n\u001b[0;32m    120\u001b[0m \u001b[38;5;66;03m# locks for all Chempiler devices\u001b[39;00m\n",
      "File \u001b[1;32mC:\\codebase\\chempu-project\\chempiler\\src\\chempiler\\tools\\graph.py:264\u001b[0m, in \u001b[0;36mChempilerGraph.__init__\u001b[1;34m(self, filename, device_modules, simulation)\u001b[0m\n\u001b[0;32m    258\u001b[0m \u001b[38;5;66;03m# Collect the devices\u001b[39;00m\n\u001b[0;32m    259\u001b[0m \u001b[38;5;28mself\u001b[39m\u001b[38;5;241m.\u001b[39mconfig: Config \u001b[38;5;241m|\u001b[39m \u001b[38;5;28;01mNone\u001b[39;00m \u001b[38;5;241m=\u001b[39m (\n\u001b[0;32m    260\u001b[0m     Config\u001b[38;5;241m.\u001b[39mfrom_json_file(path\u001b[38;5;241m=\u001b[39mchempiler_config_path)\n\u001b[0;32m    261\u001b[0m     \u001b[38;5;28;01mif\u001b[39;00m \u001b[38;5;129;01mnot\u001b[39;00m \u001b[38;5;28mself\u001b[39m\u001b[38;5;241m.\u001b[39msimulation\n\u001b[0;32m    262\u001b[0m     \u001b[38;5;28;01melse\u001b[39;00m \u001b[38;5;28;01mNone\u001b[39;00m\n\u001b[0;32m    263\u001b[0m )\n\u001b[1;32m--> 264\u001b[0m \u001b[38;5;28;43mself\u001b[39;49m\u001b[38;5;241;43m.\u001b[39;49m\u001b[43mpopulate_graph\u001b[49m\u001b[43m(\u001b[49m\u001b[43mdevice_modules\u001b[49m\u001b[43m)\u001b[49m\n\u001b[0;32m    266\u001b[0m \u001b[38;5;66;03m# Find the backbone topology\u001b[39;00m\n\u001b[0;32m    267\u001b[0m \u001b[38;5;28mself\u001b[39m\u001b[38;5;241m.\u001b[39mbackbone \u001b[38;5;241m=\u001b[39m \u001b[38;5;28mself\u001b[39m\u001b[38;5;241m.\u001b[39mfind_backbone()\n",
      "File \u001b[1;32mC:\\codebase\\chempu-project\\chempiler\\src\\chempiler\\tools\\graph.py:614\u001b[0m, in \u001b[0;36mChempilerGraph.populate_graph\u001b[1;34m(self, device_modules)\u001b[0m\n\u001b[0;32m    612\u001b[0m \u001b[38;5;28;01mfor\u001b[39;00m node_name, future \u001b[38;5;129;01min\u001b[39;00m futures\u001b[38;5;241m.\u001b[39mitems():\n\u001b[0;32m    613\u001b[0m     \u001b[38;5;28;01mtry\u001b[39;00m:\n\u001b[1;32m--> 614\u001b[0m         \u001b[43mfuture\u001b[49m\u001b[38;5;241;43m.\u001b[39;49m\u001b[43mresult\u001b[49m\u001b[43m(\u001b[49m\u001b[43m)\u001b[49m\n\u001b[0;32m    616\u001b[0m     \u001b[38;5;28;01mexcept\u001b[39;00m \u001b[38;5;167;01mException\u001b[39;00m \u001b[38;5;28;01mas\u001b[39;00m exc:\n\u001b[0;32m    617\u001b[0m         failed_nodes[node_name] \u001b[38;5;241m=\u001b[39m exc\n",
      "File \u001b[1;32mC:\\ProgramFilesUsers\\Python312\\Lib\\concurrent\\futures\\_base.py:451\u001b[0m, in \u001b[0;36mFuture.result\u001b[1;34m(self, timeout)\u001b[0m\n\u001b[0;32m    448\u001b[0m \u001b[38;5;28;01melif\u001b[39;00m \u001b[38;5;28mself\u001b[39m\u001b[38;5;241m.\u001b[39m_state \u001b[38;5;241m==\u001b[39m FINISHED:\n\u001b[0;32m    449\u001b[0m     \u001b[38;5;28;01mreturn\u001b[39;00m \u001b[38;5;28mself\u001b[39m\u001b[38;5;241m.\u001b[39m__get_result()\n\u001b[1;32m--> 451\u001b[0m \u001b[38;5;28;43mself\u001b[39;49m\u001b[38;5;241;43m.\u001b[39;49m\u001b[43m_condition\u001b[49m\u001b[38;5;241;43m.\u001b[39;49m\u001b[43mwait\u001b[49m\u001b[43m(\u001b[49m\u001b[43mtimeout\u001b[49m\u001b[43m)\u001b[49m\n\u001b[0;32m    453\u001b[0m \u001b[38;5;28;01mif\u001b[39;00m \u001b[38;5;28mself\u001b[39m\u001b[38;5;241m.\u001b[39m_state \u001b[38;5;129;01min\u001b[39;00m [CANCELLED, CANCELLED_AND_NOTIFIED]:\n\u001b[0;32m    454\u001b[0m     \u001b[38;5;28;01mraise\u001b[39;00m CancelledError()\n",
      "File \u001b[1;32mC:\\ProgramFilesUsers\\Python312\\Lib\\threading.py:355\u001b[0m, in \u001b[0;36mCondition.wait\u001b[1;34m(self, timeout)\u001b[0m\n\u001b[0;32m    353\u001b[0m \u001b[38;5;28;01mtry\u001b[39;00m:    \u001b[38;5;66;03m# restore state no matter what (e.g., KeyboardInterrupt)\u001b[39;00m\n\u001b[0;32m    354\u001b[0m     \u001b[38;5;28;01mif\u001b[39;00m timeout \u001b[38;5;129;01mis\u001b[39;00m \u001b[38;5;28;01mNone\u001b[39;00m:\n\u001b[1;32m--> 355\u001b[0m         \u001b[43mwaiter\u001b[49m\u001b[38;5;241;43m.\u001b[39;49m\u001b[43macquire\u001b[49m\u001b[43m(\u001b[49m\u001b[43m)\u001b[49m\n\u001b[0;32m    356\u001b[0m         gotit \u001b[38;5;241m=\u001b[39m \u001b[38;5;28;01mTrue\u001b[39;00m\n\u001b[0;32m    357\u001b[0m     \u001b[38;5;28;01melse\u001b[39;00m:\n",
      "\u001b[1;31mKeyboardInterrupt\u001b[0m: "
     ]
    }
   ],
   "source": [
    "chempiler = Chempiler(\n",
    "    experiment_code=exp_name,\n",
    "    graph_file=f\"{exp_name}.json\",\n",
    "    output_dir=\".\",\n",
    "    simulation=False,\n",
    "    device_modules=[ChemputerAPI],\n",
    ")"
   ]
  },
  {
   "cell_type": "code",
   "execution_count": null,
   "metadata": {},
   "outputs": [],
   "source": [
    "chempiler.start_sensor_thread()"
   ]
  },
  {
   "cell_type": "code",
   "execution_count": null,
   "metadata": {},
   "outputs": [],
   "source": [
    "xdl.execute(chempiler)"
   ]
  },
  {
   "cell_type": "code",
   "execution_count": null,
   "metadata": {},
   "outputs": [],
   "source": []
  },
  {
   "cell_type": "code",
   "execution_count": null,
   "metadata": {},
   "outputs": [],
   "source": []
  }
 ],
 "metadata": {
  "kernelspec": {
   "display_name": ".venv-312-chempu",
   "language": "python",
   "name": "python3"
  },
  "language_info": {
   "codemirror_mode": {
    "name": "ipython",
    "version": 3
   },
   "file_extension": ".py",
   "mimetype": "text/x-python",
   "name": "python",
   "nbconvert_exporter": "python",
   "pygments_lexer": "ipython3",
   "version": "3.12.2"
  }
 },
 "nbformat": 4,
 "nbformat_minor": 2
}
