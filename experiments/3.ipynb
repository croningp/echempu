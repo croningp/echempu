{
 "cells": [
  {
   "cell_type": "code",
   "execution_count": 2,
   "metadata": {},
   "outputs": [
    {
     "name": "stdout",
     "output_type": "stream",
     "text": [
      "necessary 0.0008 mol of electrons in the reaction\n",
      "necessary charge is 270.158 according to Fmol\n",
      "Time of the reaction is  54031 s\n",
      "Current necessary is  0.005 A\n",
      "total charge necessary is 270.158 Coulombs\n",
      "You need 15.008777777777777 hours\n"
     ]
    }
   ],
   "source": [
    "# number of electrons in the reaction\n",
    "# mols of reactant\n",
    "# F\n",
    "\n",
    "# optional inputs\n",
    "# surface area and current density\n",
    "\n",
    "# In a round-bottom flask cell, α-keto acid (0.4 mmol), o-phenylenediamine (1.2 mmol), \n",
    "# TFA (0.5 mmol) and DIPEA (1.0 mmol) were dissolved in 4 mL DMSO/H2O (v/v=3:1) \n",
    "# with NH4ClO4 (0.2 M) as electrolyte. The reaction flask was equipped with Pt foils \n",
    "# as anode and cathode (1.5 cm2). The solution was electrolyzed at a constant current (5 mA) \n",
    "# for 15 h (270 C of charge passed based on the standard conditions) at ambient temperature. \n",
    "\n",
    "F=96485\n",
    "\n",
    "def calculate_reaction_time(mol, ne, current=None, j=None, surface_area=None, Fmol=None):\n",
    "    \"\"\"\n",
    "    This function calculates the theoretical times needed to perform a echem reaction\n",
    "\n",
    "    Argument:\n",
    "    mol: float          = The amount of the rate limiting reactant in mol\n",
    "    ne: int             = number of electrons per reaction\n",
    "    current: float      = Ampere\n",
    "    j: float            = current density Ampere/cm2\n",
    "    surface_area: float = cm2 of elctrode\n",
    "\n",
    "    Returns:\n",
    "    time: float = reaction time in seconds\n",
    "    \"\"\"\n",
    "    mol_electrons=mol*ne\n",
    "    print(\"necessary\", mol_electrons, \"mol of electrons in the reaction\")\n",
    "    if Fmol is not None:\n",
    "        q=(Fmol * mol) * F\n",
    "        print(\"necessary charge is\", q, \"according to Fmol\")\n",
    "    else:\n",
    "        q=mol_electrons*F\n",
    "    if current is not None:\n",
    "        time=q/current\n",
    "    elif j is not None and surface_area is not None:\n",
    "        current=j*surface_area\n",
    "        time=q/current\n",
    "    else:\n",
    "        print(\"Either current or j or surface_area must be provided\")\n",
    "        return None\n",
    "    \n",
    "    time_hours=time/3600\n",
    "    time_days=time_hours/24\n",
    "    print(\"Time of the reaction is \", int(time), \"s\")\n",
    "    print(\"Current necessary is \", current, \"A\")\n",
    "    print(\"total charge necessary is\" ,q, \"Coulombs\")\n",
    "    print(\"You need\", time_hours, \"hours\")\n",
    "    return time, q\n",
    "\n",
    "time, q = calculate_reaction_time(mol=0.4e-3, ne=2, current=0.005, surface_area=1, Fmol=7)"
   ]
  },
  {
   "cell_type": "code",
   "execution_count": 4,
   "metadata": {},
   "outputs": [
    {
     "name": "stdout",
     "output_type": "stream",
     "text": [
      "necessary 0.0016 mol of electrons in the reaction\n",
      "necessary charge is 540.316 according to Fmol\n",
      "Time of the reaction is  45026 s\n",
      "Current necessary is  0.012 A\n",
      "total charge necessary is 540.316 Coulombs\n",
      "You need 12.507314814814816 hours\n"
     ]
    }
   ],
   "source": [
    "# The reaction solution containing 30 mM of benzylamine, 250 mM of n-Bu4NClO4 as \n",
    "# supporting electrolyte, 30 mM of sodium ethoxide, and ethanol as solvent was flowed \n",
    "# through the electrochemical microreactor at 25°C by using a syringe pump. A beaker cell \n",
    "# (50 mL) equipped with a 6 cm2 Pt plate anode and a 6 cm2 graphite plate cathode was used. \n",
    "# The electrode distance was 1.5 cm. The electrolyte volume was 40 mL, and the reaction was \n",
    "# carried out under vigorous stirring. Reactions were conducted galvanostatically \n",
    "# (5 mA cm-2, 3.11 F mol-1). \n",
    "\n",
    "time, q = calculate_reaction_time(mol=0.8e-3, ne=2, current=0.012, surface_area=1, Fmol=7)"
   ]
  },
  {
   "cell_type": "code",
   "execution_count": null,
   "metadata": {},
   "outputs": [],
   "source": [
    "import logging\n",
    "from pathlib import Path\n",
    "\n",
    "from xdl import XDL, initialize_logging\n",
    "from chemputerxdl import ChemputerPlatform\n",
    "from chempiler import Chempiler\n",
    "import ChemputerAPI"
   ]
  },
  {
   "cell_type": "code",
   "execution_count": null,
   "metadata": {},
   "outputs": [],
   "source": [
    "exp_name = \"MGS2-112\" \n",
    "\n",
    "output_path = Path(\".\").resolve()\n",
    "log_path = str(output_path / \"log_files\")\n",
    "\n",
    "xdl_path = str(output_path / f\"{exp_name}.xdl\")\n",
    "graph_path = str(output_path / f\"{exp_name}.json\")"
   ]
  },
  {
   "cell_type": "code",
   "execution_count": null,
   "metadata": {},
   "outputs": [],
   "source": [
    "initialize_logging(\n",
    "    stream_level=logging.WARNING,\n",
    "    file_level=logging.INFO,\n",
    "    file_dir=log_path  # must be given when `file_level` is not None\n",
    ")"
   ]
  },
  {
   "cell_type": "code",
   "execution_count": null,
   "metadata": {},
   "outputs": [],
   "source": [
    "xdl = XDL(\n",
    "    xdl=xdl_path,\n",
    "    platform=ChemputerPlatform,\n",
    "    working_directory=output_path / \"blueprints\",\n",
    ")"
   ]
  },
  {
   "cell_type": "code",
   "execution_count": null,
   "metadata": {},
   "outputs": [],
   "source": [
    "xdl.prepare_for_execution(\n",
    "    graph_file=graph_path,\n",
    "    interactive=False\n",
    ")"
   ]
  },
  {
   "cell_type": "code",
   "execution_count": null,
   "metadata": {},
   "outputs": [],
   "source": [
    "chempiler = Chempiler(\n",
    "    experiment_code=exp_name,\n",
    "    graph_file=f\"{exp_name}.json\",\n",
    "    output_dir=\".\",\n",
    "    simulation=False,\n",
    "    device_modules=[ChemputerAPI],\n",
    ")"
   ]
  },
  {
   "cell_type": "code",
   "execution_count": null,
   "metadata": {},
   "outputs": [],
   "source": [
    "chempiler.start_sensor_thread()"
   ]
  },
  {
   "cell_type": "code",
   "execution_count": null,
   "metadata": {},
   "outputs": [],
   "source": [
    "xdl.execute(chempiler)"
   ]
  },
  {
   "cell_type": "code",
   "execution_count": null,
   "metadata": {},
   "outputs": [],
   "source": []
  }
 ],
 "metadata": {
  "kernelspec": {
   "display_name": ".venv-312-chempu",
   "language": "python",
   "name": "python3"
  },
  "language_info": {
   "codemirror_mode": {
    "name": "ipython",
    "version": 3
   },
   "file_extension": ".py",
   "mimetype": "text/x-python",
   "name": "python",
   "nbconvert_exporter": "python",
   "pygments_lexer": "ipython3",
   "version": "3.12.6"
  }
 },
 "nbformat": 4,
 "nbformat_minor": 2
}
