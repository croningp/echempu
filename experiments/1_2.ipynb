{
 "cells": [
  {
   "cell_type": "code",
   "execution_count": 2,
   "metadata": {},
   "outputs": [
    {
     "name": "stdout",
     "output_type": "stream",
     "text": [
      "necessary 0.0012 mol of electrons in the reaction\n",
      "necessary charge is 173.673 according to Fmol\n",
      "Time of the reaction is  26314 s\n",
      "Current necessary is  0.0066 A\n",
      "total charge necessary is 173.673 Coulombs\n",
      "You need 7.309469696969697 hours\n"
     ]
    }
   ],
   "source": [
    "# number of electrons in the reaction\n",
    "# mols of reactant\n",
    "# F\n",
    "\n",
    "# optional inputs\n",
    "# surface area and current density\n",
    "\n",
    "# Into a round bottom flask, indoles (0.3 mmol, 1.0 equiv.) and glyoxylic acid \n",
    "# (0.9 mmol, 3.0 equiv.) were dissolved in 5 mL DMSO/H2O (v/v = 50:1) with NaClO4 (0.1 M) \n",
    "# as an electrolyte. Aniline (10 mol%) was then added into the mixture. The resulting solution \n",
    "# was electrolyzed with a pair of Pt foils (1.0 × 1.5 cm2) as electrodes under \n",
    "# current density j = 2 mA cm-2 or j = 3.3 mA cm-2 at room temperature for 11 or 7 hours.  \n",
    "# After the electrolysis, the reaction mixture was extracted with ethyl acetate (3 × 10 mL).\n",
    "# The combined organic layers were washed with brine (10 mL), dried over MgSO4, \n",
    "# filtered and concentrated in vacuo.”\n",
    "\n",
    "F=96485\n",
    "\n",
    "def calculate_reaction_time(mol, ne, current=None, j=None, surface_area=None, Fmol=None):\n",
    "    \"\"\"\n",
    "    This function calculates the theoretical times needed to perform a echem reaction\n",
    "\n",
    "    Argument:\n",
    "    mol: float          = The amount of the rate limiting reactant in mol\n",
    "    ne: int             = number of electrons per reaction\n",
    "    current: float      = Ampere\n",
    "    j: float            = current density Ampere/cm2\n",
    "    surface_area: float = cm2 of elctrode\n",
    "\n",
    "    Returns:\n",
    "    time: float = reaction time in seconds\n",
    "    \"\"\"\n",
    "    mol_electrons=mol*ne\n",
    "    print(\"necessary\", mol_electrons, \"mol of electrons in the reaction\")\n",
    "    if Fmol is not None:\n",
    "        q=(Fmol * mol) * F\n",
    "        print(\"necessary charge is\", q, \"according to Fmol\")\n",
    "    else:\n",
    "        q=mol_electrons*F\n",
    "    if current is not None:\n",
    "        time=q/current\n",
    "    elif j is not None and surface_area is not None:\n",
    "        current=j*surface_area\n",
    "        time=q/current\n",
    "    else:\n",
    "        print(\"Either current or j or surface_area must be provided\")\n",
    "        return None\n",
    "    \n",
    "    time_hours=time/3600\n",
    "    time_days=time_hours/24\n",
    "    print(\"Time of the reaction is \", int(time), \"s\")\n",
    "    print(\"Current necessary is \", current, \"A\")\n",
    "    print(\"total charge necessary is\" ,q, \"Coulombs\")\n",
    "    print(\"You need\", time_hours, \"hours\")\n",
    "    return time, q\n",
    "\n",
    "time, q = calculate_reaction_time(mol=0.6e-3, ne=2, j=0.0033, surface_area=2, Fmol=3)"
   ]
  },
  {
   "cell_type": "code",
   "execution_count": 5,
   "metadata": {},
   "outputs": [
    {
     "name": "stdout",
     "output_type": "stream",
     "text": [
      "necessary 0.0006 mol of electrons in the reaction\n",
      "necessary charge is 90.02050499999999 according to Fmol\n",
      "Time of the reaction is  5295 s\n",
      "Current necessary is  0.017 A\n",
      "total charge necessary is 90.02050499999999 Coulombs\n",
      "You need 1.470923284313725 hours\n"
     ]
    }
   ],
   "source": [
    "# The reaction solution containing 30 mM of benzylamine, 250 mM of n-Bu4NClO4 as \n",
    "# supporting electrolyte, 30 mM of sodium ethoxide, and ethanol as solvent was flowed \n",
    "# through the electrochemical microreactor at 25°C by using a syringe pump. A beaker cell \n",
    "# (50 mL) equipped with a 6 cm2 Pt plate anode and a 6 cm2 graphite plate cathode was used. \n",
    "# The electrode distance was 1.5 cm. The electrolyte volume was 40 mL, and the reaction was \n",
    "# carried out under vigorous stirring. Reactions were conducted galvanostatically \n",
    "# (5 mA cm-2, 3.11 F mol-1). \n",
    "\n",
    "time, q = calculate_reaction_time(mol=0.3e-3, ne=2, j=0.005, surface_area=3.4, Fmol=3.11)"
   ]
  },
  {
   "cell_type": "code",
   "execution_count": null,
   "metadata": {},
   "outputs": [],
   "source": [
    "import logging\n",
    "from pathlib import Path\n",
    "\n",
    "from xdl import XDL, initialize_logging\n",
    "from chemputerxdl import ChemputerPlatform\n",
    "from chempiler import Chempiler\n",
    "import ChemputerAPI"
   ]
  },
  {
   "cell_type": "code",
   "execution_count": null,
   "metadata": {},
   "outputs": [],
   "source": [
    "exp_name = \"MGS2-112\" \n",
    "\n",
    "output_path = Path(\".\").resolve()\n",
    "log_path = str(output_path / \"log_files\")\n",
    "\n",
    "xdl_path = str(output_path / f\"{exp_name}.xdl\")\n",
    "graph_path = str(output_path / f\"{exp_name}.json\")"
   ]
  },
  {
   "cell_type": "code",
   "execution_count": null,
   "metadata": {},
   "outputs": [],
   "source": [
    "initialize_logging(\n",
    "    stream_level=logging.WARNING,\n",
    "    file_level=logging.INFO,\n",
    "    file_dir=log_path  # must be given when `file_level` is not None\n",
    ")"
   ]
  },
  {
   "cell_type": "code",
   "execution_count": null,
   "metadata": {},
   "outputs": [],
   "source": [
    "xdl = XDL(\n",
    "    xdl=xdl_path,\n",
    "    platform=ChemputerPlatform,\n",
    "    working_directory=output_path / \"blueprints\",\n",
    ")"
   ]
  },
  {
   "cell_type": "code",
   "execution_count": null,
   "metadata": {},
   "outputs": [],
   "source": [
    "xdl.prepare_for_execution(\n",
    "    graph_file=graph_path,\n",
    "    interactive=False\n",
    ")"
   ]
  },
  {
   "cell_type": "code",
   "execution_count": null,
   "metadata": {},
   "outputs": [],
   "source": [
    "chempiler = Chempiler(\n",
    "    experiment_code=exp_name,\n",
    "    graph_file=f\"{exp_name}.json\",\n",
    "    output_dir=\".\",\n",
    "    simulation=False,\n",
    "    device_modules=[ChemputerAPI],\n",
    ")"
   ]
  },
  {
   "cell_type": "code",
   "execution_count": null,
   "metadata": {},
   "outputs": [],
   "source": [
    "chempiler.start_sensor_thread()"
   ]
  },
  {
   "cell_type": "code",
   "execution_count": null,
   "metadata": {},
   "outputs": [],
   "source": [
    "xdl.execute(chempiler)"
   ]
  },
  {
   "cell_type": "code",
   "execution_count": null,
   "metadata": {},
   "outputs": [],
   "source": []
  }
 ],
 "metadata": {
  "kernelspec": {
   "display_name": ".venv-312-chempu",
   "language": "python",
   "name": "python3"
  },
  "language_info": {
   "codemirror_mode": {
    "name": "ipython",
    "version": 3
   },
   "file_extension": ".py",
   "mimetype": "text/x-python",
   "name": "python",
   "nbconvert_exporter": "python",
   "pygments_lexer": "ipython3",
   "version": "3.12.6"
  }
 },
 "nbformat": 4,
 "nbformat_minor": 2
}
