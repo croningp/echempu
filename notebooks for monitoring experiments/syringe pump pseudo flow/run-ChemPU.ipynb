{
 "cells": [
  {
   "cell_type": "code",
   "execution_count": null,
   "metadata": {},
   "outputs": [],
   "source": [
    "from AnalyticalLabware import SpinsolveNMR\n",
    "from chempiler import Chempiler\n",
    "import ChemputerAPI\n",
    "from utils import DiscoveryPlatform"
   ]
  },
  {
   "cell_type": "code",
   "execution_count": 2,
   "metadata": {},
   "outputs": [],
   "source": [
    "from xdl import initialize_logging\n",
    "initialize_logging(file_level=20, file_dir=\"log_files\", stream_level=40)"
   ]
  },
  {
   "cell_type": "code",
   "execution_count": null,
   "metadata": {},
   "outputs": [],
   "source": [
    "graph_file = 'minimal_monitoring_graph.json'"
   ]
  },
  {
   "cell_type": "code",
   "execution_count": 4,
   "metadata": {},
   "outputs": [],
   "source": [
    "c = Chempiler(\n",
    "    experiment_code=\"manual\",\n",
    "    graph_file=graph_file,\n",
    "    output_dir='.',\n",
    "    simulation=False,\n",
    "    device_modules=[ChemputerAPI]\n",
    ")"
   ]
  },
  {
   "cell_type": "code",
   "execution_count": null,
   "metadata": {},
   "outputs": [],
   "source": [
    "nmr: SpinsolveNMR = c['nmr']\n",
    "dp = DiscoveryPlatform(nmr=nmr, c=c)"
   ]
  },
  {
   "cell_type": "code",
   "execution_count": null,
   "metadata": {},
   "outputs": [],
   "source": [
    "#nmr.protocols_list"
   ]
  },
  {
   "cell_type": "code",
   "execution_count": null,
   "metadata": {},
   "outputs": [],
   "source": [
    "#nmr.cmd.get_protocol(\"1D WET SUP\")"
   ]
  },
  {
   "cell_type": "markdown",
   "metadata": {},
   "source": [
    "Define experimental parameters here"
   ]
  },
  {
   "cell_type": "code",
   "execution_count": null,
   "metadata": {},
   "outputs": [],
   "source": [
    "# premix the contents of the flowcell and the reactor vial\n",
    "from concurrent.futures import ThreadPoolExecutor, wait\n",
    "\n",
    "executor = ThreadPoolExecutor(max_workers=3)\n",
    "\n",
    "cycles = 30\n",
    "pumps = ['p33', 'p32', 'p31']\n",
    "pump_switch = True\n",
    "\n",
    "dp.take_sample(pumps[0])\n",
    "\n",
    "counter = 0\n",
    "\n",
    "while counter < cycles or not pump_switch:\n",
    "    futures = []\n",
    "    if pump_switch:\n",
    "        futures.append(executor.submit(dp.flowcell, pump1=pumps[0], pump2=pumps[1]))\n",
    "        futures.append(executor.submit(dp.take_sample, pump=pumps[2]))\n",
    "    else:\n",
    "        futures.append(executor.submit(dp.flowcell, pump1=pumps[2], pump2=pumps[0]))\n",
    "        futures.append(executor.submit(dp.return_sample, pump=pumps[1]))\n",
    "    \n",
    "    pump_switch = not pump_switch\n",
    "\n",
    "    wait(futures)\n",
    "\n",
    "    counter += 1\n",
    "    print(counter, \"/\", cycles)\n",
    "\n",
    "dp.return_sample(pumps[0])"
   ]
  },
  {
   "cell_type": "code",
   "execution_count": null,
   "metadata": {},
   "outputs": [],
   "source": [
    "dp.test_nmr()"
   ]
  },
  {
   "cell_type": "markdown",
   "metadata": {},
   "source": [
    "Define experimental parameters here"
   ]
  },
  {
   "cell_type": "code",
   "execution_count": null,
   "metadata": {},
   "outputs": [],
   "source": [
    "nmr.sample = 'MGS259'\n",
    "total_runtime = 5*60*60 # seconds"
   ]
  },
  {
   "cell_type": "code",
   "execution_count": null,
   "metadata": {},
   "outputs": [],
   "source": [
    "from concurrent.futures import ThreadPoolExecutor, wait\n",
    "from datetime import datetime, timedelta\n",
    "\n",
    "executor = ThreadPoolExecutor(max_workers=3)\n",
    "\n",
    "pumps = ['p33', 'p32', 'p31']\n",
    "\n",
    "time_elapsed = 0\n",
    "pump_switch = True\n",
    "\n",
    "start_time = datetime.now()\n",
    "last_shim_time = datetime.now() - timedelta(hours=1)\n",
    "print(f\"Starting sampling at {start_time}\")\n",
    "\n",
    "dp.take_sample(pumps[0])\n",
    "\n",
    "counter = 0\n",
    "\n",
    "while time_elapsed < total_runtime or not pump_switch:\n",
    "    futures = []\n",
    "    if pump_switch:\n",
    "        futures.append(executor.submit(dp.flowcell, pump1=pumps[0], pump2=pumps[1]))\n",
    "        futures.append(executor.submit(dp.take_sample, pump=pumps[2]))\n",
    "    else:\n",
    "        futures.append(executor.submit(dp.flowcell, pump1=pumps[2], pump2=pumps[0]))\n",
    "        futures.append(executor.submit(dp.return_sample, pump=pumps[1]))\n",
    "    \n",
    "    pump_switch = not pump_switch\n",
    "\n",
    "    wait(futures)\n",
    "\n",
    "    if counter%5 == 0 and counter >= 10:\n",
    "        time_since_last_shim = (datetime.now() - last_shim_time).total_seconds()\n",
    "        print(f\"Time since last shim: {str(timedelta(seconds=time_since_last_shim))}\")\n",
    "        if time_since_last_shim > 5 * 60:\n",
    "            print(\"Shim too old. Recalibrating...\")\n",
    "            og_sample = nmr.sample\n",
    "            nmr.sample = 'shim'\n",
    "            dp.shim_on_sample(1.6)\n",
    "            last_shim_time = datetime.now()\n",
    "            nmr.sample = og_sample\n",
    "        dp.get_wet_sup()\n",
    "\n",
    "    time_elapsed = (datetime.now() - start_time).total_seconds()\n",
    "    time_left = timedelta(seconds=total_runtime - time_elapsed)\n",
    "    print(f\"Time left: {str(time_left if time_left.total_seconds() > 0 else 0)}\")\n",
    "\n",
    "    counter += 1\n",
    "\n",
    "print(\"Experiment finished.\")\n",
    "print(\"Returning sample\")\n",
    "dp.return_sample(pumps[0])"
   ]
  },
  {
   "cell_type": "code",
   "execution_count": null,
   "metadata": {},
   "outputs": [],
   "source": [
    "# Recycle the sample in the flow cell if needed for yield determination\n",
    "\n",
    "print(\"Purging flowcell\")\n",
    "dp.purge_flowcell('sample')"
   ]
  },
  {
   "cell_type": "code",
   "execution_count": null,
   "metadata": {},
   "outputs": [],
   "source": [
    "dp.clean_flowcell('acetone', 3)"
   ]
  },
  {
   "cell_type": "code",
   "execution_count": null,
   "metadata": {},
   "outputs": [],
   "source": [
    "dp.purge_flowcell()"
   ]
  },
  {
   "cell_type": "code",
   "execution_count": null,
   "metadata": {},
   "outputs": [],
   "source": []
  }
 ],
 "metadata": {
  "kernelspec": {
   "display_name": "xdl",
   "language": "python",
   "name": "python3"
  },
  "language_info": {
   "codemirror_mode": {
    "name": "ipython",
    "version": 3
   },
   "file_extension": ".py",
   "mimetype": "text/x-python",
   "name": "python",
   "nbconvert_exporter": "python",
   "pygments_lexer": "ipython3",
   "version": "3.12.9"
  },
  "orig_nbformat": 4,
  "vscode": {
   "interpreter": {
    "hash": "903d36ba534e2104158a067981a71b0b0848c595544db3703dac0d2acbe69391"
   }
  }
 },
 "nbformat": 4,
 "nbformat_minor": 2
}
