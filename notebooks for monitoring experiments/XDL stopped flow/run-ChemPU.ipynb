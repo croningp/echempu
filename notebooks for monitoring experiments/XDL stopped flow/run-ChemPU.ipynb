{
 "cells": [
  {
   "cell_type": "code",
   "execution_count": null,
   "metadata": {},
   "outputs": [],
   "source": [
    "from xdl import XDL\n",
    "from chemputerxdl import ChemputerPlatform\n",
    "from chempiler import Chempiler\n",
    "import ChemputerAPI"
   ]
  },
  {
   "cell_type": "code",
   "execution_count": null,
   "metadata": {},
   "outputs": [],
   "source": [
    "from xdl import initialize_logging\n",
    "initialize_logging(\n",
    "    stream_level=40,\n",
    "    file_level=20,\n",
    "    file_dir='log_files'\n",
    ")"
   ]
  },
  {
   "cell_type": "code",
   "execution_count": null,
   "metadata": {},
   "outputs": [],
   "source": [
    "xdl_file = 'monitoring.xdl'\n",
    "graph_file = 'monitoring_graph.json'"
   ]
  },
  {
   "cell_type": "code",
   "execution_count": null,
   "metadata": {},
   "outputs": [],
   "source": [
    "x = XDL(xdl_file, platform=ChemputerPlatform)"
   ]
  },
  {
   "cell_type": "code",
   "execution_count": null,
   "metadata": {},
   "outputs": [],
   "source": [
    "x.prepare_for_execution(graph_file, interactive=False, default_pump_speed=150)"
   ]
  },
  {
   "cell_type": "code",
   "execution_count": null,
   "metadata": {},
   "outputs": [],
   "source": [
    "c = Chempiler(\n",
    "    experiment_code=\"manual\",\n",
    "    graph_file=graph_file,\n",
    "    output_dir='.',\n",
    "    simulation=True,\n",
    "    device_modules=[ChemputerAPI]\n",
    ")"
   ]
  },
  {
   "cell_type": "code",
   "execution_count": null,
   "metadata": {},
   "outputs": [],
   "source": [
    "x.execute(c)"
   ]
  },
  {
   "cell_type": "code",
   "execution_count": null,
   "metadata": {},
   "outputs": [],
   "source": [
    "def fill_flowcell(sample_vessel:str):\n",
    "    c.move(sample_vessel, 'p33', 10, speed=100)\n",
    "    c.move('p33', 'p32', 5, through_nodes=['v23', 'nmr', 'v22'], speed=20)\n",
    "    \n",
    "def empty_flowcell(sample_vessel:str | None = None):\n",
    "    c.move('p32', 'p33', 5, through_nodes=['v22', 'nmr', 'v23'], speed=20)\n",
    "    if sample_vessel:\n",
    "        c.move('p33', sample_vessel, 10, speed=150)\n",
    "    else:\n",
    "        c.move('p33', 'w3', 10, speed=150)\n",
    "\n",
    "def purge_flowcell():\n",
    "    c.move('a22', 'p32', 5, speed=150)\n",
    "    c.move('p32', 'p33', 5, through_nodes=['v22', 'nmr', 'v23'], speed=20)\n",
    "    c.move('p33', 'w3', 5, speed=150)"
   ]
  },
  {
   "cell_type": "code",
   "execution_count": null,
   "metadata": {},
   "outputs": [],
   "source": [
    "fill_flowcell('flask_acetone')"
   ]
  },
  {
   "cell_type": "code",
   "execution_count": null,
   "metadata": {},
   "outputs": [],
   "source": [
    "empty_flowcell()"
   ]
  },
  {
   "cell_type": "code",
   "execution_count": null,
   "metadata": {},
   "outputs": [],
   "source": [
    "purge_flowcell()"
   ]
  },
  {
   "cell_type": "code",
   "execution_count": null,
   "metadata": {},
   "outputs": [],
   "source": []
  }
 ],
 "metadata": {
  "kernelspec": {
   "display_name": "xdl",
   "language": "python",
   "name": "python3"
  },
  "language_info": {
   "codemirror_mode": {
    "name": "ipython",
    "version": 3
   },
   "file_extension": ".py",
   "mimetype": "text/x-python",
   "name": "python",
   "nbconvert_exporter": "python",
   "pygments_lexer": "ipython3",
   "version": "3.12.9"
  },
  "orig_nbformat": 4,
  "vscode": {
   "interpreter": {
    "hash": "903d36ba534e2104158a067981a71b0b0848c595544db3703dac0d2acbe69391"
   }
  }
 },
 "nbformat": 4,
 "nbformat_minor": 2
}
