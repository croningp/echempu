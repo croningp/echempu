{
 "cells": [
  {
   "cell_type": "markdown",
   "metadata": {},
   "source": [
    "The imported dependencies are available from the lead contact upon request (lee.cronin@glasgow.ac.uk)"
   ]
  },
  {
   "cell_type": "code",
   "execution_count": null,
   "metadata": {},
   "outputs": [],
   "source": [
    "from AnalyticalLabware import SpinsolveNMR\n",
    "from commanduinolabware import CommanduinoLabware\n",
    "from commanduino.commanddevices.commandlinearaccelstepper import CommandLinearAccelStepper"
   ]
  },
  {
   "cell_type": "markdown",
   "metadata": {},
   "source": [
    "Initialisation of the NMR spectrometer and the peristaltic pump"
   ]
  },
  {
   "cell_type": "code",
   "execution_count": null,
   "metadata": {},
   "outputs": [],
   "source": [
    "nmr = SpinsolveNMR()\n",
    "\n",
    "config_file = \"arduino_board_config.json\"\n",
    "board = CommanduinoLabware(config=config_file)\n",
    "perry: CommandLinearAccelStepper = board.devices['peri']"
   ]
  },
  {
   "cell_type": "markdown",
   "metadata": {},
   "source": [
    "Helper commands to find out which experimental protocols are available on the current Spinsolve spectrometer"
   ]
  },
  {
   "cell_type": "code",
   "execution_count": null,
   "metadata": {},
   "outputs": [],
   "source": [
    "# nmr.protocols_list"
   ]
  },
  {
   "cell_type": "code",
   "execution_count": null,
   "metadata": {},
   "outputs": [],
   "source": [
    "# nmr.cmd.get_protocol(\"SHIM 1H SAMPLE\")"
   ]
  },
  {
   "cell_type": "markdown",
   "metadata": {},
   "source": [
    "NMR convenience methods"
   ]
  },
  {
   "cell_type": "code",
   "execution_count": null,
   "metadata": {},
   "outputs": [],
   "source": [
    "def quick_nmr():\n",
    "    nmr.get_spectrum(('1D EXTENDED+',{\n",
    "        'Number': '1',\n",
    "        'AcquisitionTime': '3.2',\n",
    "        'RepetitionTime': '4'\n",
    "    }))\n",
    "\n",
    "def test_nmr():\n",
    "    nmr.sample = \"test\"\n",
    "    # nmr.get_spectrum(('1D PROTON',{'Scan': 'QuickScan'}))\n",
    "    quick_nmr()\n",
    "\n",
    "def shim_on_sample(ref: float):\n",
    "    og_sample = nmr.sample\n",
    "    nmr.sample = \"shim\"\n",
    "    nmr.get_spectrum(\n",
    "        (\n",
    "            'SHIM 1H SAMPLE',\n",
    "            {\n",
    "                'Mode': 'Manual',\n",
    "                'manualStart': -25,\n",
    "                'manualEnd': 35,\n",
    "                'SampleReference': ref,\n",
    "                'Shim': 'QuickShim1'\n",
    "            }\n",
    "        )\n",
    "    )\n",
    "    nmr.sample = og_sample\n",
    "\n",
    "def lock_on_sample(ref: float):\n",
    "    og_sample = nmr.sample\n",
    "    nmr.sample = \"lock\"\n",
    "    nmr.get_spectrum(\n",
    "        (\n",
    "            'SHIM 1H SAMPLE',\n",
    "            {\n",
    "                'Mode': 'Manual',\n",
    "                'manualStart': -25,\n",
    "                'manualEnd': 35,\n",
    "                'SampleReference': ref,\n",
    "                'Shim': 'LockAndCalibrateOnly'\n",
    "            }\n",
    "        )\n",
    "    )\n",
    "    nmr.sample = og_sample\n",
    "\n",
    "def get_wet_sup():\n",
    "    nmr.get_spectrum(\n",
    "        (\n",
    "            '1D WET SUP',\n",
    "            {\n",
    "                'Mode': 'Manual',\n",
    "                'satFrequency1': 1.6,\n",
    "                'CorrectionFactor': 1,\n",
    "                'Dummy': 0,\n",
    "                'Number': 2,\n",
    "                'AcquisitionTime': 3.2,\n",
    "                'RepetitionTime': 4\n",
    "            }\n",
    "        )\n",
    "    )"
   ]
  },
  {
   "cell_type": "markdown",
   "metadata": {},
   "source": [
    "Peristaltic pump convenience methods"
   ]
  },
  {
   "cell_type": "code",
   "execution_count": null,
   "metadata": {},
   "outputs": [],
   "source": [
    "import threading\n",
    "\n",
    "_stop_flag = threading.Event()\n",
    "\n",
    "def run_pump():\n",
    "    while not _stop_flag.is_set():\n",
    "        # move in 0.1 mL increments\n",
    "        perry.move(15625)\n",
    "\n",
    "def start_pump():\n",
    "    pump_thread = threading.Thread(target=run_pump)\n",
    "    _stop_flag.clear()\n",
    "    pump_thread.start()\n",
    "\n",
    "def stop_pump():\n",
    "    _stop_flag.set()\n",
    "\n",
    "def move_volume(volume: float):\n",
    "    for _ in range(round(volume)):\n",
    "        perry.move(156250)\n",
    "    perry.move(156250 * volume % 1)"
   ]
  },
  {
   "cell_type": "markdown",
   "metadata": {},
   "source": [
    "Test NMR is calibrated correctly"
   ]
  },
  {
   "cell_type": "code",
   "execution_count": null,
   "metadata": {},
   "outputs": [],
   "source": [
    "start_pump()"
   ]
  },
  {
   "cell_type": "code",
   "execution_count": null,
   "metadata": {},
   "outputs": [],
   "source": [
    "test_nmr()"
   ]
  },
  {
   "cell_type": "code",
   "execution_count": null,
   "metadata": {},
   "outputs": [],
   "source": [
    "lock_on_sample(1.6)"
   ]
  },
  {
   "cell_type": "code",
   "execution_count": null,
   "metadata": {},
   "outputs": [],
   "source": [
    "stop_pump()"
   ]
  },
  {
   "cell_type": "markdown",
   "metadata": {},
   "source": [
    "Define experimental parameters here"
   ]
  },
  {
   "cell_type": "code",
   "execution_count": null,
   "metadata": {},
   "outputs": [],
   "source": [
    "nmr.sample = 'MGS263'\n",
    "total_runtime = 4*60*60 # seconds"
   ]
  },
  {
   "cell_type": "code",
   "execution_count": null,
   "metadata": {},
   "outputs": [],
   "source": [
    "from datetime import datetime, timedelta\n",
    "\n",
    "time_elapsed = 0\n",
    "\n",
    "start_time = datetime.now()\n",
    "last_shim_time = datetime.now() # - timedelta(hours=1)\n",
    "print(f\"Starting sampling at {start_time}\")\n",
    "\n",
    "while time_elapsed < total_runtime:\n",
    "\n",
    "    time_since_last_shim = (datetime.now() - last_shim_time).total_seconds()\n",
    "    print(f\"Time since last shim: {str(timedelta(seconds=time_since_last_shim))}\")\n",
    "    if time_since_last_shim > 15 * 60:\n",
    "        print(\"Shim too old. Recalibrating...\")\n",
    "        shim_on_sample(1.6)\n",
    "        last_shim_time = datetime.now()\n",
    "    lock_on_sample(1.6)\n",
    "    get_wet_sup()\n",
    "    move_volume(1)\n",
    "\n",
    "    time_elapsed = (datetime.now() - start_time).total_seconds()\n",
    "    time_left = timedelta(seconds=total_runtime - time_elapsed)\n",
    "    print(f\"Time left: {str(time_left if time_left.total_seconds() > 0 else 0)}\")\n",
    "\n",
    "print(\"Experiment finished.\")"
   ]
  },
  {
   "cell_type": "markdown",
   "metadata": {},
   "source": [
    "Cleaning of the flow cell by reversing the pump direction"
   ]
  },
  {
   "cell_type": "code",
   "execution_count": null,
   "metadata": {},
   "outputs": [],
   "source": [
    "# Invert pump direction to return sample\n",
    "perry.reverted_direction = True\n",
    "move_volume(5)\n",
    "perry.reverted_direction = False"
   ]
  },
  {
   "cell_type": "code",
   "execution_count": null,
   "metadata": {},
   "outputs": [],
   "source": []
  }
 ],
 "metadata": {
  "kernelspec": {
   "display_name": "xdl",
   "language": "python",
   "name": "python3"
  },
  "language_info": {
   "codemirror_mode": {
    "name": "ipython",
    "version": 3
   },
   "file_extension": ".py",
   "mimetype": "text/x-python",
   "name": "python",
   "nbconvert_exporter": "python",
   "pygments_lexer": "ipython3",
   "version": "3.12.9"
  },
  "orig_nbformat": 4,
  "vscode": {
   "interpreter": {
    "hash": "903d36ba534e2104158a067981a71b0b0848c595544db3703dac0d2acbe69391"
   }
  }
 },
 "nbformat": 4,
 "nbformat_minor": 2
}
